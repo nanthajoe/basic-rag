{
 "cells": [
  {
   "cell_type": "code",
   "execution_count": 1,
   "metadata": {},
   "outputs": [
    {
     "name": "stdout",
     "output_type": "stream",
     "text": [
      "Requirement already satisfied: python-dotenv in /opt/anaconda3/envs/basic-rag/lib/python3.11/site-packages (from -r requirement.txt (line 1)) (1.0.1)\n",
      "Requirement already satisfied: langchain in /opt/anaconda3/envs/basic-rag/lib/python3.11/site-packages (from -r requirement.txt (line 2)) (0.3.9)\n",
      "Requirement already satisfied: langchain_core in /opt/anaconda3/envs/basic-rag/lib/python3.11/site-packages (from -r requirement.txt (line 3)) (0.3.21)\n",
      "Requirement already satisfied: langchain_community in /opt/anaconda3/envs/basic-rag/lib/python3.11/site-packages (from -r requirement.txt (line 4)) (0.3.9)\n",
      "Requirement already satisfied: langchain-ollama in /opt/anaconda3/envs/basic-rag/lib/python3.11/site-packages (from -r requirement.txt (line 5)) (0.2.1)\n",
      "Requirement already satisfied: langchain_text_splitters in /opt/anaconda3/envs/basic-rag/lib/python3.11/site-packages (from -r requirement.txt (line 6)) (0.3.2)\n",
      "Requirement already satisfied: langchain-huggingface in /opt/anaconda3/envs/basic-rag/lib/python3.11/site-packages (from -r requirement.txt (line 7)) (0.1.2)\n",
      "Requirement already satisfied: faiss-cpu in /opt/anaconda3/envs/basic-rag/lib/python3.11/site-packages (from -r requirement.txt (line 8)) (1.9.0.post1)\n",
      "Requirement already satisfied: chromadb in /opt/anaconda3/envs/basic-rag/lib/python3.11/site-packages (from -r requirement.txt (line 10)) (0.5.23)\n",
      "Requirement already satisfied: sentence-transformers in /opt/anaconda3/envs/basic-rag/lib/python3.11/site-packages (from -r requirement.txt (line 11)) (3.3.1)\n",
      "Requirement already satisfied: tiktoken in /opt/anaconda3/envs/basic-rag/lib/python3.11/site-packages (from -r requirement.txt (line 12)) (0.8.0)\n",
      "Requirement already satisfied: pypdf in /opt/anaconda3/envs/basic-rag/lib/python3.11/site-packages (from -r requirement.txt (line 13)) (5.1.0)\n",
      "Requirement already satisfied: PyYAML>=5.3 in /opt/anaconda3/envs/basic-rag/lib/python3.11/site-packages (from langchain->-r requirement.txt (line 2)) (6.0.2)\n",
      "Requirement already satisfied: SQLAlchemy<3,>=1.4 in /opt/anaconda3/envs/basic-rag/lib/python3.11/site-packages (from langchain->-r requirement.txt (line 2)) (2.0.36)\n",
      "Requirement already satisfied: aiohttp<4.0.0,>=3.8.3 in /opt/anaconda3/envs/basic-rag/lib/python3.11/site-packages (from langchain->-r requirement.txt (line 2)) (3.11.10)\n",
      "Requirement already satisfied: langsmith<0.2.0,>=0.1.17 in /opt/anaconda3/envs/basic-rag/lib/python3.11/site-packages (from langchain->-r requirement.txt (line 2)) (0.1.147)\n",
      "Requirement already satisfied: numpy<2,>=1.22.4 in /opt/anaconda3/envs/basic-rag/lib/python3.11/site-packages (from langchain->-r requirement.txt (line 2)) (1.26.4)\n",
      "Requirement already satisfied: pydantic<3.0.0,>=2.7.4 in /opt/anaconda3/envs/basic-rag/lib/python3.11/site-packages (from langchain->-r requirement.txt (line 2)) (2.10.3)\n",
      "Requirement already satisfied: requests<3,>=2 in /opt/anaconda3/envs/basic-rag/lib/python3.11/site-packages (from langchain->-r requirement.txt (line 2)) (2.32.3)\n",
      "Requirement already satisfied: tenacity!=8.4.0,<10,>=8.1.0 in /opt/anaconda3/envs/basic-rag/lib/python3.11/site-packages (from langchain->-r requirement.txt (line 2)) (9.0.0)\n",
      "Requirement already satisfied: jsonpatch<2.0,>=1.33 in /opt/anaconda3/envs/basic-rag/lib/python3.11/site-packages (from langchain_core->-r requirement.txt (line 3)) (1.33)\n",
      "Requirement already satisfied: packaging<25,>=23.2 in /opt/anaconda3/envs/basic-rag/lib/python3.11/site-packages (from langchain_core->-r requirement.txt (line 3)) (24.2)\n",
      "Requirement already satisfied: typing-extensions>=4.7 in /opt/anaconda3/envs/basic-rag/lib/python3.11/site-packages (from langchain_core->-r requirement.txt (line 3)) (4.12.2)\n",
      "Requirement already satisfied: dataclasses-json<0.7,>=0.5.7 in /opt/anaconda3/envs/basic-rag/lib/python3.11/site-packages (from langchain_community->-r requirement.txt (line 4)) (0.6.7)\n",
      "Requirement already satisfied: httpx-sse<0.5.0,>=0.4.0 in /opt/anaconda3/envs/basic-rag/lib/python3.11/site-packages (from langchain_community->-r requirement.txt (line 4)) (0.4.0)\n",
      "Requirement already satisfied: pydantic-settings<3.0.0,>=2.4.0 in /opt/anaconda3/envs/basic-rag/lib/python3.11/site-packages (from langchain_community->-r requirement.txt (line 4)) (2.6.1)\n",
      "Requirement already satisfied: ollama<1,>=0.3.0 in /opt/anaconda3/envs/basic-rag/lib/python3.11/site-packages (from langchain-ollama->-r requirement.txt (line 5)) (0.4.2)\n",
      "Requirement already satisfied: huggingface-hub>=0.23.0 in /opt/anaconda3/envs/basic-rag/lib/python3.11/site-packages (from langchain-huggingface->-r requirement.txt (line 7)) (0.26.5)\n",
      "Requirement already satisfied: tokenizers>=0.19.1 in /opt/anaconda3/envs/basic-rag/lib/python3.11/site-packages (from langchain-huggingface->-r requirement.txt (line 7)) (0.20.3)\n",
      "Requirement already satisfied: transformers>=4.39.0 in /opt/anaconda3/envs/basic-rag/lib/python3.11/site-packages (from langchain-huggingface->-r requirement.txt (line 7)) (4.46.3)\n",
      "Requirement already satisfied: build>=1.0.3 in /opt/anaconda3/envs/basic-rag/lib/python3.11/site-packages (from chromadb->-r requirement.txt (line 10)) (1.2.2.post1)\n",
      "Requirement already satisfied: chroma-hnswlib==0.7.6 in /opt/anaconda3/envs/basic-rag/lib/python3.11/site-packages (from chromadb->-r requirement.txt (line 10)) (0.7.6)\n",
      "Requirement already satisfied: fastapi>=0.95.2 in /opt/anaconda3/envs/basic-rag/lib/python3.11/site-packages (from chromadb->-r requirement.txt (line 10)) (0.115.6)\n",
      "Requirement already satisfied: uvicorn>=0.18.3 in /opt/anaconda3/envs/basic-rag/lib/python3.11/site-packages (from uvicorn[standard]>=0.18.3->chromadb->-r requirement.txt (line 10)) (0.32.1)\n",
      "Requirement already satisfied: posthog>=2.4.0 in /opt/anaconda3/envs/basic-rag/lib/python3.11/site-packages (from chromadb->-r requirement.txt (line 10)) (3.7.4)\n",
      "Requirement already satisfied: onnxruntime>=1.14.1 in /opt/anaconda3/envs/basic-rag/lib/python3.11/site-packages (from chromadb->-r requirement.txt (line 10)) (1.20.1)\n",
      "Requirement already satisfied: opentelemetry-api>=1.2.0 in /opt/anaconda3/envs/basic-rag/lib/python3.11/site-packages (from chromadb->-r requirement.txt (line 10)) (1.28.2)\n",
      "Requirement already satisfied: opentelemetry-exporter-otlp-proto-grpc>=1.2.0 in /opt/anaconda3/envs/basic-rag/lib/python3.11/site-packages (from chromadb->-r requirement.txt (line 10)) (1.28.2)\n",
      "Requirement already satisfied: opentelemetry-instrumentation-fastapi>=0.41b0 in /opt/anaconda3/envs/basic-rag/lib/python3.11/site-packages (from chromadb->-r requirement.txt (line 10)) (0.49b2)\n",
      "Requirement already satisfied: opentelemetry-sdk>=1.2.0 in /opt/anaconda3/envs/basic-rag/lib/python3.11/site-packages (from chromadb->-r requirement.txt (line 10)) (1.28.2)\n",
      "Requirement already satisfied: pypika>=0.48.9 in /opt/anaconda3/envs/basic-rag/lib/python3.11/site-packages (from chromadb->-r requirement.txt (line 10)) (0.48.9)\n",
      "Requirement already satisfied: tqdm>=4.65.0 in /opt/anaconda3/envs/basic-rag/lib/python3.11/site-packages (from chromadb->-r requirement.txt (line 10)) (4.67.1)\n",
      "Requirement already satisfied: overrides>=7.3.1 in /opt/anaconda3/envs/basic-rag/lib/python3.11/site-packages (from chromadb->-r requirement.txt (line 10)) (7.7.0)\n",
      "Requirement already satisfied: importlib-resources in /opt/anaconda3/envs/basic-rag/lib/python3.11/site-packages (from chromadb->-r requirement.txt (line 10)) (6.4.5)\n",
      "Requirement already satisfied: grpcio>=1.58.0 in /opt/anaconda3/envs/basic-rag/lib/python3.11/site-packages (from chromadb->-r requirement.txt (line 10)) (1.68.1)\n",
      "Requirement already satisfied: bcrypt>=4.0.1 in /opt/anaconda3/envs/basic-rag/lib/python3.11/site-packages (from chromadb->-r requirement.txt (line 10)) (4.2.1)\n",
      "Requirement already satisfied: typer>=0.9.0 in /opt/anaconda3/envs/basic-rag/lib/python3.11/site-packages (from chromadb->-r requirement.txt (line 10)) (0.15.1)\n",
      "Requirement already satisfied: kubernetes>=28.1.0 in /opt/anaconda3/envs/basic-rag/lib/python3.11/site-packages (from chromadb->-r requirement.txt (line 10)) (31.0.0)\n",
      "Requirement already satisfied: mmh3>=4.0.1 in /opt/anaconda3/envs/basic-rag/lib/python3.11/site-packages (from chromadb->-r requirement.txt (line 10)) (5.0.1)\n",
      "Requirement already satisfied: orjson>=3.9.12 in /opt/anaconda3/envs/basic-rag/lib/python3.11/site-packages (from chromadb->-r requirement.txt (line 10)) (3.10.12)\n",
      "Requirement already satisfied: httpx>=0.27.0 in /opt/anaconda3/envs/basic-rag/lib/python3.11/site-packages (from chromadb->-r requirement.txt (line 10)) (0.27.2)\n",
      "Requirement already satisfied: rich>=10.11.0 in /opt/anaconda3/envs/basic-rag/lib/python3.11/site-packages (from chromadb->-r requirement.txt (line 10)) (13.9.4)\n",
      "Requirement already satisfied: torch>=1.11.0 in /opt/anaconda3/envs/basic-rag/lib/python3.11/site-packages (from sentence-transformers->-r requirement.txt (line 11)) (2.5.1)\n",
      "Requirement already satisfied: scikit-learn in /opt/anaconda3/envs/basic-rag/lib/python3.11/site-packages (from sentence-transformers->-r requirement.txt (line 11)) (1.5.2)\n",
      "Requirement already satisfied: scipy in /opt/anaconda3/envs/basic-rag/lib/python3.11/site-packages (from sentence-transformers->-r requirement.txt (line 11)) (1.14.1)\n",
      "Requirement already satisfied: Pillow in /opt/anaconda3/envs/basic-rag/lib/python3.11/site-packages (from sentence-transformers->-r requirement.txt (line 11)) (11.0.0)\n",
      "Requirement already satisfied: regex>=2022.1.18 in /opt/anaconda3/envs/basic-rag/lib/python3.11/site-packages (from tiktoken->-r requirement.txt (line 12)) (2024.11.6)\n",
      "Requirement already satisfied: aiohappyeyeballs>=2.3.0 in /opt/anaconda3/envs/basic-rag/lib/python3.11/site-packages (from aiohttp<4.0.0,>=3.8.3->langchain->-r requirement.txt (line 2)) (2.4.4)\n",
      "Requirement already satisfied: aiosignal>=1.1.2 in /opt/anaconda3/envs/basic-rag/lib/python3.11/site-packages (from aiohttp<4.0.0,>=3.8.3->langchain->-r requirement.txt (line 2)) (1.3.1)\n",
      "Requirement already satisfied: attrs>=17.3.0 in /opt/anaconda3/envs/basic-rag/lib/python3.11/site-packages (from aiohttp<4.0.0,>=3.8.3->langchain->-r requirement.txt (line 2)) (24.2.0)\n",
      "Requirement already satisfied: frozenlist>=1.1.1 in /opt/anaconda3/envs/basic-rag/lib/python3.11/site-packages (from aiohttp<4.0.0,>=3.8.3->langchain->-r requirement.txt (line 2)) (1.5.0)\n",
      "Requirement already satisfied: multidict<7.0,>=4.5 in /opt/anaconda3/envs/basic-rag/lib/python3.11/site-packages (from aiohttp<4.0.0,>=3.8.3->langchain->-r requirement.txt (line 2)) (6.1.0)\n",
      "Requirement already satisfied: propcache>=0.2.0 in /opt/anaconda3/envs/basic-rag/lib/python3.11/site-packages (from aiohttp<4.0.0,>=3.8.3->langchain->-r requirement.txt (line 2)) (0.2.1)\n",
      "Requirement already satisfied: yarl<2.0,>=1.17.0 in /opt/anaconda3/envs/basic-rag/lib/python3.11/site-packages (from aiohttp<4.0.0,>=3.8.3->langchain->-r requirement.txt (line 2)) (1.18.3)\n",
      "Requirement already satisfied: pyproject_hooks in /opt/anaconda3/envs/basic-rag/lib/python3.11/site-packages (from build>=1.0.3->chromadb->-r requirement.txt (line 10)) (1.2.0)\n",
      "Requirement already satisfied: marshmallow<4.0.0,>=3.18.0 in /opt/anaconda3/envs/basic-rag/lib/python3.11/site-packages (from dataclasses-json<0.7,>=0.5.7->langchain_community->-r requirement.txt (line 4)) (3.23.1)\n",
      "Requirement already satisfied: typing-inspect<1,>=0.4.0 in /opt/anaconda3/envs/basic-rag/lib/python3.11/site-packages (from dataclasses-json<0.7,>=0.5.7->langchain_community->-r requirement.txt (line 4)) (0.9.0)\n",
      "Requirement already satisfied: starlette<0.42.0,>=0.40.0 in /opt/anaconda3/envs/basic-rag/lib/python3.11/site-packages (from fastapi>=0.95.2->chromadb->-r requirement.txt (line 10)) (0.41.3)\n",
      "Requirement already satisfied: anyio in /opt/anaconda3/envs/basic-rag/lib/python3.11/site-packages (from httpx>=0.27.0->chromadb->-r requirement.txt (line 10)) (4.7.0)\n",
      "Requirement already satisfied: certifi in /opt/anaconda3/envs/basic-rag/lib/python3.11/site-packages (from httpx>=0.27.0->chromadb->-r requirement.txt (line 10)) (2024.8.30)\n",
      "Requirement already satisfied: httpcore==1.* in /opt/anaconda3/envs/basic-rag/lib/python3.11/site-packages (from httpx>=0.27.0->chromadb->-r requirement.txt (line 10)) (1.0.7)\n",
      "Requirement already satisfied: idna in /opt/anaconda3/envs/basic-rag/lib/python3.11/site-packages (from httpx>=0.27.0->chromadb->-r requirement.txt (line 10)) (3.10)\n",
      "Requirement already satisfied: sniffio in /opt/anaconda3/envs/basic-rag/lib/python3.11/site-packages (from httpx>=0.27.0->chromadb->-r requirement.txt (line 10)) (1.3.1)\n",
      "Requirement already satisfied: h11<0.15,>=0.13 in /opt/anaconda3/envs/basic-rag/lib/python3.11/site-packages (from httpcore==1.*->httpx>=0.27.0->chromadb->-r requirement.txt (line 10)) (0.14.0)\n",
      "Requirement already satisfied: filelock in /opt/anaconda3/envs/basic-rag/lib/python3.11/site-packages (from huggingface-hub>=0.23.0->langchain-huggingface->-r requirement.txt (line 7)) (3.16.1)\n",
      "Requirement already satisfied: fsspec>=2023.5.0 in /opt/anaconda3/envs/basic-rag/lib/python3.11/site-packages (from huggingface-hub>=0.23.0->langchain-huggingface->-r requirement.txt (line 7)) (2024.10.0)\n",
      "Requirement already satisfied: jsonpointer>=1.9 in /opt/anaconda3/envs/basic-rag/lib/python3.11/site-packages (from jsonpatch<2.0,>=1.33->langchain_core->-r requirement.txt (line 3)) (3.0.0)\n",
      "Requirement already satisfied: six>=1.9.0 in /opt/anaconda3/envs/basic-rag/lib/python3.11/site-packages (from kubernetes>=28.1.0->chromadb->-r requirement.txt (line 10)) (1.17.0)\n",
      "Requirement already satisfied: python-dateutil>=2.5.3 in /opt/anaconda3/envs/basic-rag/lib/python3.11/site-packages (from kubernetes>=28.1.0->chromadb->-r requirement.txt (line 10)) (2.9.0.post0)\n",
      "Requirement already satisfied: google-auth>=1.0.1 in /opt/anaconda3/envs/basic-rag/lib/python3.11/site-packages (from kubernetes>=28.1.0->chromadb->-r requirement.txt (line 10)) (2.36.0)\n",
      "Requirement already satisfied: websocket-client!=0.40.0,!=0.41.*,!=0.42.*,>=0.32.0 in /opt/anaconda3/envs/basic-rag/lib/python3.11/site-packages (from kubernetes>=28.1.0->chromadb->-r requirement.txt (line 10)) (1.8.0)\n",
      "Requirement already satisfied: requests-oauthlib in /opt/anaconda3/envs/basic-rag/lib/python3.11/site-packages (from kubernetes>=28.1.0->chromadb->-r requirement.txt (line 10)) (2.0.0)\n",
      "Requirement already satisfied: oauthlib>=3.2.2 in /opt/anaconda3/envs/basic-rag/lib/python3.11/site-packages (from kubernetes>=28.1.0->chromadb->-r requirement.txt (line 10)) (3.2.2)\n",
      "Requirement already satisfied: urllib3>=1.24.2 in /opt/anaconda3/envs/basic-rag/lib/python3.11/site-packages (from kubernetes>=28.1.0->chromadb->-r requirement.txt (line 10)) (2.2.3)\n",
      "Requirement already satisfied: durationpy>=0.7 in /opt/anaconda3/envs/basic-rag/lib/python3.11/site-packages (from kubernetes>=28.1.0->chromadb->-r requirement.txt (line 10)) (0.9)\n",
      "Requirement already satisfied: requests-toolbelt<2.0.0,>=1.0.0 in /opt/anaconda3/envs/basic-rag/lib/python3.11/site-packages (from langsmith<0.2.0,>=0.1.17->langchain->-r requirement.txt (line 2)) (1.0.0)\n",
      "Requirement already satisfied: coloredlogs in /opt/anaconda3/envs/basic-rag/lib/python3.11/site-packages (from onnxruntime>=1.14.1->chromadb->-r requirement.txt (line 10)) (15.0.1)\n",
      "Requirement already satisfied: flatbuffers in /opt/anaconda3/envs/basic-rag/lib/python3.11/site-packages (from onnxruntime>=1.14.1->chromadb->-r requirement.txt (line 10)) (24.3.25)\n",
      "Requirement already satisfied: protobuf in /opt/anaconda3/envs/basic-rag/lib/python3.11/site-packages (from onnxruntime>=1.14.1->chromadb->-r requirement.txt (line 10)) (5.29.1)\n",
      "Requirement already satisfied: sympy in /opt/anaconda3/envs/basic-rag/lib/python3.11/site-packages (from onnxruntime>=1.14.1->chromadb->-r requirement.txt (line 10)) (1.13.1)\n",
      "Requirement already satisfied: deprecated>=1.2.6 in /opt/anaconda3/envs/basic-rag/lib/python3.11/site-packages (from opentelemetry-api>=1.2.0->chromadb->-r requirement.txt (line 10)) (1.2.15)\n",
      "Requirement already satisfied: importlib-metadata<=8.5.0,>=6.0 in /opt/anaconda3/envs/basic-rag/lib/python3.11/site-packages (from opentelemetry-api>=1.2.0->chromadb->-r requirement.txt (line 10)) (8.5.0)\n",
      "Requirement already satisfied: googleapis-common-protos~=1.52 in /opt/anaconda3/envs/basic-rag/lib/python3.11/site-packages (from opentelemetry-exporter-otlp-proto-grpc>=1.2.0->chromadb->-r requirement.txt (line 10)) (1.66.0)\n",
      "Requirement already satisfied: opentelemetry-exporter-otlp-proto-common==1.28.2 in /opt/anaconda3/envs/basic-rag/lib/python3.11/site-packages (from opentelemetry-exporter-otlp-proto-grpc>=1.2.0->chromadb->-r requirement.txt (line 10)) (1.28.2)\n",
      "Requirement already satisfied: opentelemetry-proto==1.28.2 in /opt/anaconda3/envs/basic-rag/lib/python3.11/site-packages (from opentelemetry-exporter-otlp-proto-grpc>=1.2.0->chromadb->-r requirement.txt (line 10)) (1.28.2)\n",
      "Requirement already satisfied: opentelemetry-instrumentation-asgi==0.49b2 in /opt/anaconda3/envs/basic-rag/lib/python3.11/site-packages (from opentelemetry-instrumentation-fastapi>=0.41b0->chromadb->-r requirement.txt (line 10)) (0.49b2)\n",
      "Requirement already satisfied: opentelemetry-instrumentation==0.49b2 in /opt/anaconda3/envs/basic-rag/lib/python3.11/site-packages (from opentelemetry-instrumentation-fastapi>=0.41b0->chromadb->-r requirement.txt (line 10)) (0.49b2)\n",
      "Requirement already satisfied: opentelemetry-semantic-conventions==0.49b2 in /opt/anaconda3/envs/basic-rag/lib/python3.11/site-packages (from opentelemetry-instrumentation-fastapi>=0.41b0->chromadb->-r requirement.txt (line 10)) (0.49b2)\n",
      "Requirement already satisfied: opentelemetry-util-http==0.49b2 in /opt/anaconda3/envs/basic-rag/lib/python3.11/site-packages (from opentelemetry-instrumentation-fastapi>=0.41b0->chromadb->-r requirement.txt (line 10)) (0.49b2)\n",
      "Requirement already satisfied: wrapt<2.0.0,>=1.0.0 in /opt/anaconda3/envs/basic-rag/lib/python3.11/site-packages (from opentelemetry-instrumentation==0.49b2->opentelemetry-instrumentation-fastapi>=0.41b0->chromadb->-r requirement.txt (line 10)) (1.17.0)\n",
      "Requirement already satisfied: asgiref~=3.0 in /opt/anaconda3/envs/basic-rag/lib/python3.11/site-packages (from opentelemetry-instrumentation-asgi==0.49b2->opentelemetry-instrumentation-fastapi>=0.41b0->chromadb->-r requirement.txt (line 10)) (3.8.1)\n",
      "Requirement already satisfied: monotonic>=1.5 in /opt/anaconda3/envs/basic-rag/lib/python3.11/site-packages (from posthog>=2.4.0->chromadb->-r requirement.txt (line 10)) (1.6)\n",
      "Requirement already satisfied: backoff>=1.10.0 in /opt/anaconda3/envs/basic-rag/lib/python3.11/site-packages (from posthog>=2.4.0->chromadb->-r requirement.txt (line 10)) (2.2.1)\n",
      "Requirement already satisfied: annotated-types>=0.6.0 in /opt/anaconda3/envs/basic-rag/lib/python3.11/site-packages (from pydantic<3.0.0,>=2.7.4->langchain->-r requirement.txt (line 2)) (0.7.0)\n",
      "Requirement already satisfied: pydantic-core==2.27.1 in /opt/anaconda3/envs/basic-rag/lib/python3.11/site-packages (from pydantic<3.0.0,>=2.7.4->langchain->-r requirement.txt (line 2)) (2.27.1)\n",
      "Requirement already satisfied: charset-normalizer<4,>=2 in /opt/anaconda3/envs/basic-rag/lib/python3.11/site-packages (from requests<3,>=2->langchain->-r requirement.txt (line 2)) (3.4.0)\n",
      "Requirement already satisfied: markdown-it-py>=2.2.0 in /opt/anaconda3/envs/basic-rag/lib/python3.11/site-packages (from rich>=10.11.0->chromadb->-r requirement.txt (line 10)) (3.0.0)\n",
      "Requirement already satisfied: pygments<3.0.0,>=2.13.0 in /opt/anaconda3/envs/basic-rag/lib/python3.11/site-packages (from rich>=10.11.0->chromadb->-r requirement.txt (line 10)) (2.18.0)\n",
      "Requirement already satisfied: networkx in /opt/anaconda3/envs/basic-rag/lib/python3.11/site-packages (from torch>=1.11.0->sentence-transformers->-r requirement.txt (line 11)) (3.4.2)\n",
      "Requirement already satisfied: jinja2 in /opt/anaconda3/envs/basic-rag/lib/python3.11/site-packages (from torch>=1.11.0->sentence-transformers->-r requirement.txt (line 11)) (3.1.4)\n",
      "Requirement already satisfied: mpmath<1.4,>=1.1.0 in /opt/anaconda3/envs/basic-rag/lib/python3.11/site-packages (from sympy->onnxruntime>=1.14.1->chromadb->-r requirement.txt (line 10)) (1.3.0)\n",
      "Requirement already satisfied: safetensors>=0.4.1 in /opt/anaconda3/envs/basic-rag/lib/python3.11/site-packages (from transformers>=4.39.0->langchain-huggingface->-r requirement.txt (line 7)) (0.4.5)\n",
      "Requirement already satisfied: click>=8.0.0 in /opt/anaconda3/envs/basic-rag/lib/python3.11/site-packages (from typer>=0.9.0->chromadb->-r requirement.txt (line 10)) (8.1.7)\n",
      "Requirement already satisfied: shellingham>=1.3.0 in /opt/anaconda3/envs/basic-rag/lib/python3.11/site-packages (from typer>=0.9.0->chromadb->-r requirement.txt (line 10)) (1.5.4)\n",
      "Requirement already satisfied: httptools>=0.6.3 in /opt/anaconda3/envs/basic-rag/lib/python3.11/site-packages (from uvicorn[standard]>=0.18.3->chromadb->-r requirement.txt (line 10)) (0.6.4)\n",
      "Requirement already satisfied: uvloop!=0.15.0,!=0.15.1,>=0.14.0 in /opt/anaconda3/envs/basic-rag/lib/python3.11/site-packages (from uvicorn[standard]>=0.18.3->chromadb->-r requirement.txt (line 10)) (0.21.0)\n",
      "Requirement already satisfied: watchfiles>=0.13 in /opt/anaconda3/envs/basic-rag/lib/python3.11/site-packages (from uvicorn[standard]>=0.18.3->chromadb->-r requirement.txt (line 10)) (1.0.0)\n",
      "Requirement already satisfied: websockets>=10.4 in /opt/anaconda3/envs/basic-rag/lib/python3.11/site-packages (from uvicorn[standard]>=0.18.3->chromadb->-r requirement.txt (line 10)) (14.1)\n",
      "Requirement already satisfied: joblib>=1.2.0 in /opt/anaconda3/envs/basic-rag/lib/python3.11/site-packages (from scikit-learn->sentence-transformers->-r requirement.txt (line 11)) (1.4.2)\n",
      "Requirement already satisfied: threadpoolctl>=3.1.0 in /opt/anaconda3/envs/basic-rag/lib/python3.11/site-packages (from scikit-learn->sentence-transformers->-r requirement.txt (line 11)) (3.5.0)\n",
      "Requirement already satisfied: cachetools<6.0,>=2.0.0 in /opt/anaconda3/envs/basic-rag/lib/python3.11/site-packages (from google-auth>=1.0.1->kubernetes>=28.1.0->chromadb->-r requirement.txt (line 10)) (5.5.0)\n",
      "Requirement already satisfied: pyasn1-modules>=0.2.1 in /opt/anaconda3/envs/basic-rag/lib/python3.11/site-packages (from google-auth>=1.0.1->kubernetes>=28.1.0->chromadb->-r requirement.txt (line 10)) (0.4.1)\n",
      "Requirement already satisfied: rsa<5,>=3.1.4 in /opt/anaconda3/envs/basic-rag/lib/python3.11/site-packages (from google-auth>=1.0.1->kubernetes>=28.1.0->chromadb->-r requirement.txt (line 10)) (4.9)\n",
      "Requirement already satisfied: zipp>=3.20 in /opt/anaconda3/envs/basic-rag/lib/python3.11/site-packages (from importlib-metadata<=8.5.0,>=6.0->opentelemetry-api>=1.2.0->chromadb->-r requirement.txt (line 10)) (3.21.0)\n",
      "Requirement already satisfied: mdurl~=0.1 in /opt/anaconda3/envs/basic-rag/lib/python3.11/site-packages (from markdown-it-py>=2.2.0->rich>=10.11.0->chromadb->-r requirement.txt (line 10)) (0.1.2)\n",
      "Requirement already satisfied: mypy-extensions>=0.3.0 in /opt/anaconda3/envs/basic-rag/lib/python3.11/site-packages (from typing-inspect<1,>=0.4.0->dataclasses-json<0.7,>=0.5.7->langchain_community->-r requirement.txt (line 4)) (1.0.0)\n",
      "Requirement already satisfied: humanfriendly>=9.1 in /opt/anaconda3/envs/basic-rag/lib/python3.11/site-packages (from coloredlogs->onnxruntime>=1.14.1->chromadb->-r requirement.txt (line 10)) (10.0)\n",
      "Requirement already satisfied: MarkupSafe>=2.0 in /opt/anaconda3/envs/basic-rag/lib/python3.11/site-packages (from jinja2->torch>=1.11.0->sentence-transformers->-r requirement.txt (line 11)) (3.0.2)\n",
      "Requirement already satisfied: pyasn1<0.7.0,>=0.4.6 in /opt/anaconda3/envs/basic-rag/lib/python3.11/site-packages (from pyasn1-modules>=0.2.1->google-auth>=1.0.1->kubernetes>=28.1.0->chromadb->-r requirement.txt (line 10)) (0.6.1)\n",
      "Note: you may need to restart the kernel to use updated packages.\n"
     ]
    }
   ],
   "source": [
    "pip install -r requirement.txt"
   ]
  },
  {
   "cell_type": "code",
   "execution_count": 2,
   "metadata": {},
   "outputs": [],
   "source": [
    "import os\n",
    "\n",
    "from langchain.document_loaders import PyPDFLoader\n",
    "from langchain.text_splitter import RecursiveCharacterTextSplitter\n",
    "from langchain_huggingface import HuggingFaceEmbeddings\n",
    "from langchain.vectorstores import Chroma\n",
    "from langchain_ollama import OllamaLLM \n",
    "from langchain.chains import RetrievalQA\n"
   ]
  },
  {
   "cell_type": "code",
   "execution_count": 3,
   "metadata": {},
   "outputs": [],
   "source": [
    "# If you want to load all PDFs from a directory:\n",
    "directory_path = \"docs/\"\n",
    "pdf_files = [os.path.join(directory_path, file) for file in os.listdir(directory_path) if file.endswith(\".pdf\")]\n",
    "\n",
    "# Load documents from multiple PDFs\n",
    "documents = []\n",
    "for pdf_file in pdf_files:\n",
    "    loader = PyPDFLoader(pdf_file)\n",
    "    documents.extend(loader.load())"
   ]
  },
  {
   "cell_type": "code",
   "execution_count": 4,
   "metadata": {},
   "outputs": [
    {
     "name": "stdout",
     "output_type": "stream",
     "text": [
      "Chroma database created with 16 full documents!\n"
     ]
    }
   ],
   "source": [
    "# Initialize embeddings and vector store\n",
    "embeddings = HuggingFaceEmbeddings(model_name=\"all-MiniLM-L6-v2\")\n",
    "vectorstore = Chroma.from_documents(documents, embeddings, persist_directory=\"./chroma_store\")\n",
    "retriever = vectorstore.as_retriever()\n",
    "print(f\"Chroma database created with {len(documents)} full documents!\")"
   ]
  },
  {
   "cell_type": "code",
   "execution_count": 5,
   "metadata": {},
   "outputs": [],
   "source": [
    "# Function to assess query complexity (this can be more sophisticated)\n",
    "def assess_query_complexity(query):\n",
    "    # Simple logic: If query length > threshold, it's complex\n",
    "    return len(query.split()) > 7  # Example threshold"
   ]
  },
  {
   "cell_type": "code",
   "execution_count": 9,
   "metadata": {},
   "outputs": [
    {
     "name": "stdout",
     "output_type": "stream",
     "text": [
      "Retrieved 4 documents relevant to the query.\n"
     ]
    }
   ],
   "source": [
    "# Query the vectorstore (Example Query)\n",
    "query = \"What is RAG?\"\n",
    "retrieved_docs = retriever.invoke(query)\n",
    "print(f\"Retrieved {len(retrieved_docs)} documents relevant to the query.\")"
   ]
  },
  {
   "cell_type": "code",
   "execution_count": 10,
   "metadata": {},
   "outputs": [
    {
     "name": "stdout",
     "output_type": "stream",
     "text": [
      "Using pre-chunking for query: What is RAG?\n"
     ]
    }
   ],
   "source": [
    "# Decide on chunking approach based on query complexity\n",
    "if assess_query_complexity(query):\n",
    "    print(\"Using late chunking for query:\", query)\n",
    "    # Late chunking: dynamically chunk the retrieved documents\n",
    "    text_splitter = RecursiveCharacterTextSplitter(chunk_size=500, chunk_overlap=50)\n",
    "    chunks = []\n",
    "    for doc in retrieved_docs:\n",
    "        chunks.extend(text_splitter.split_documents([doc]))\n",
    "else:\n",
    "    print(\"Using pre-chunking for query:\", query)\n",
    "    # Pre-chunking: documents were already split during vector store creation\n",
    "    chunks = retrieved_docs"
   ]
  },
  {
   "cell_type": "code",
   "execution_count": 11,
   "metadata": {},
   "outputs": [],
   "source": [
    "# Initialize the LLM\n",
    "llm = OllamaLLM(model=\"llama3\", base_url=\"http://127.0.0.1:11434\")"
   ]
  },
  {
   "cell_type": "code",
   "execution_count": 12,
   "metadata": {},
   "outputs": [],
   "source": [
    "qa_chain = RetrievalQA.from_chain_type(\n",
    "    llm=llm,\n",
    "    retriever=retriever,\n",
    "    return_source_documents=True\n",
    ")"
   ]
  },
  {
   "cell_type": "markdown",
   "metadata": {},
   "source": [
    "## Prompt Engineering"
   ]
  },
  {
   "cell_type": "code",
   "execution_count": 13,
   "metadata": {},
   "outputs": [
    {
     "name": "stdout",
     "output_type": "stream",
     "text": [
      "Answer: Based on the provided context, Retrieval-Augmented Generation (RAG) is a framework that combines pre-trained language models with external knowledge bases to enhance the accuracy and relevance of generated text. This approach retrieves relevant chunks of information from external sources, such as document collections, to assist in generation.\n",
      "\n",
      "Sources:\n",
      "1. Context: \"Understanding Retrieval-Augmented Generation (RAG) with Chunking\"\n",
      "Source Documents:\n",
      "- Page Content: Step 4: Retrieving Chunks for RAG\n",
      "When a query is made, retrieve the most relevant chunks from the database using vector search.\n",
      "These chunks are then fed into the language model to generate responses...\n",
      "  Metadata: {'page': 1, 'source': 'docs/RAG_Chunking_Tutorial.pdf'}\n",
      "- Page Content: Understanding Retrieval-Augmented Generation (RAG) with Chunking\n",
      "1. Introduction to Retrieval-Augmented Generation (RAG)\n",
      "Retrieval-Augmented Generation (RAG) is a framework that combines pre-trained l...\n",
      "  Metadata: {'page': 0, 'source': 'docs/RAG_Chunking_Tutorial.pdf'}\n",
      "- Page Content: RAG Chunking Example Document\n",
      "for learning and practicing chunking strategies.\n",
      "Chunking is a crucial step in many AI-driven pipelines. Effective chunking ensures that the text is\n",
      "divided into sections...\n",
      "  Metadata: {'page': 2, 'source': 'docs/rag_chunking_example.pdf'}\n",
      "- Page Content: RAG Chunking Example Document\n",
      "for learning and practicing chunking strategies.\n",
      "Chunking is a crucial step in many AI-driven pipelines. Effective chunking ensures that the text is\n",
      "divided into sections...\n",
      "  Metadata: {'page': 8, 'source': 'docs/rag_chunking_example.pdf'}\n"
     ]
    }
   ],
   "source": [
    "# Combine the content of the documents into a single context\n",
    "context = \"\\n\\n\".join([doc.page_content for doc in retrieved_docs])\n",
    "\n",
    "# Advanced prompt with retrieval and Llama 3's knowledge\n",
    "prompt = f\"\"\"\n",
    "You are an expert AI assistant. Use the provided context and your own knowledge to answer the question in a clear, concise, and professional manner. \n",
    "\n",
    "### Instructions:\n",
    "1. First, prioritize using the context to provide the answer.\n",
    "2. If additional information is needed, supplement your response with your own knowledge.\n",
    "3. Always provide the sources for any information retrieved from the context.\n",
    "4. If the context does not answer the question and you rely solely on your own knowledge, clearly state that no external sources were used.\n",
    "\n",
    "### Context:\n",
    "{context}\n",
    "\n",
    "### Question:\n",
    "{query}\n",
    "\n",
    "### Answer:\n",
    "\"\"\"\n",
    "\n",
    "# Generate the response using Ollama\n",
    "response = llm.invoke(prompt)\n",
    "\n",
    "# Print response and source information\n",
    "print(\"Answer:\", response)\n",
    "print(\"Source Documents:\")\n",
    "for doc in retrieved_docs:\n",
    "    print(f\"- Page Content: {doc.page_content[:200]}...\")  # Truncated for readability\n",
    "    print(f\"  Metadata: {doc.metadata}\")\n"
   ]
  }
 ],
 "metadata": {
  "kernelspec": {
   "display_name": "basic-rag",
   "language": "python",
   "name": "python3"
  },
  "language_info": {
   "codemirror_mode": {
    "name": "ipython",
    "version": 3
   },
   "file_extension": ".py",
   "mimetype": "text/x-python",
   "name": "python",
   "nbconvert_exporter": "python",
   "pygments_lexer": "ipython3",
   "version": "3.11.10"
  }
 },
 "nbformat": 4,
 "nbformat_minor": 2
}
